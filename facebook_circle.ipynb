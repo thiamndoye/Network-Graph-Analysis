{
 "cells": [
  {
   "cell_type": "code",
   "execution_count": 167,
   "metadata": {},
   "outputs": [],
   "source": [
    "import numpy as np\n",
    "import glob\n",
    "import os\n",
    "import networkx as nx\n",
    "import matplotlib.pyplot as plt\n",
    "from os.path import join\n",
    "from collections import defaultdict\n",
    "from numpy import linalg as LA\n",
    "import heapq\n",
    "from sklearn.cluster import KMeans\n",
    "from sklearn.model_selection import train_test_split\n",
    "import pandas as pd\n",
    "from collections import defaultdict\n",
    "import random\n",
    "from pylab import *\n",
    "import sys\n",
    "from munkres import Munkres"
   ]
  },
  {
   "cell_type": "markdown",
   "metadata": {},
   "source": [
    "##### path to main folders "
   ]
  },
  {
   "cell_type": "code",
   "execution_count": 55,
   "metadata": {},
   "outputs": [],
   "source": [
    "path_to_egonet='/Users/yaguethiam/Centrale_3A/NGSA/final_project/anonData/egonets'\n",
    "path_to_circle='/Users/yaguethiam/Centrale_3A/NGSA/final_project/anonData/circles'"
   ]
  },
  {
   "cell_type": "markdown",
   "metadata": {},
   "source": [
    "## Utils functions"
   ]
  },
  {
   "cell_type": "markdown",
   "metadata": {},
   "source": [
    "> ##### Load the ergonet data for a facebook user"
   ]
  },
  {
   "cell_type": "code",
   "execution_count": 105,
   "metadata": {},
   "outputs": [],
   "source": [
    "def buildGraph(filename):\n",
    "    egonets=[]\n",
    "    with open(join(path_to_egonet,filename)) as f:\n",
    "        nodes_list = f.read().split('\\n')\n",
    "        for node in nodes_list:\n",
    "            if node!=\"\" and  \":\" in node:\n",
    "                node_split = node.split(': ')\n",
    "                egonets.append([node_split[0], [a for a in node_split[1].split(' ') if a!='']])\n",
    "    G = nx.Graph()\n",
    "    node_names=[]\n",
    "    node_name_isolated=[]\n",
    "    for node in egonets:\n",
    "        if len(node[1])==0:\n",
    "            node_name_isolated.append(node[0])\n",
    "        else:\n",
    "            node_names.append(node[0])\n",
    "        for edge in node[1]:\n",
    "            G.add_edge(node[0], edge)\n",
    "    return G,node_names,node_name_isolated"
   ]
  },
  {
   "cell_type": "markdown",
   "metadata": {},
   "source": [
    "> ##### Load Circle "
   ]
  },
  {
   "cell_type": "code",
   "execution_count": 36,
   "metadata": {},
   "outputs": [],
   "source": [
    "def loadCircle(filename):\n",
    "    circle_dict={}\n",
    "    with open(join(path_to_circle,filename)) as f:\n",
    "        circle_list = f.read().split('\\n')\n",
    "        for circle in circle_list:\n",
    "            if circle!=\"\" and  \":\" in circle:\n",
    "                circle_split = circle.split(': ')\n",
    "                circle_dict[circle_split[0]]=[a for a in circle_split[1].split(' ') if a!='']\n",
    "    return circle_dict"
   ]
  },
  {
   "cell_type": "markdown",
   "metadata": {},
   "source": [
    "> #####  Build Adjacency matrix "
   ]
  },
  {
   "cell_type": "code",
   "execution_count": 190,
   "metadata": {},
   "outputs": [],
   "source": [
    "def buildAdj(graph):\n",
    "    A = nx.adjacency_matrix(graph)\n",
    "    return(A.todense())"
   ]
  },
  {
   "cell_type": "markdown",
   "metadata": {},
   "source": [
    "> ##### Build Kronecker Matrix for communities"
   ]
  },
  {
   "cell_type": "code",
   "execution_count": 191,
   "metadata": {},
   "outputs": [],
   "source": [
    "def buildKroneckerMat(circle_dict,adjacent,node_names):\n",
    "    knonecker=np.zeros((adjacent.shape[0],adjacent.shape[0]))\n",
    "    for c in circle_dict:\n",
    "        circle=circle_dict[c]\n",
    "        for i in range(len(circle)):\n",
    "            if circle[i] in node_names:\n",
    "                ix0=node_names.index(circle[i])\n",
    "            else:\n",
    "                continue\n",
    "            for j in range(i,len(circle)):\n",
    "                if circle[j] in node_names:\n",
    "                    iy0=node_names.index(circle[j])\n",
    "                else:\n",
    "                    continue\n",
    "                if knonecker[ix0,iy0]==0:\n",
    "                    knonecker[ix0,iy0]=1\n",
    "                if knonecker[iy0,ix0]==0:\n",
    "                    knonecker[iy0,ix0]=1\n",
    "    return knonecker\n",
    "    "
   ]
  },
  {
   "cell_type": "markdown",
   "metadata": {},
   "source": [
    "> ##### Compute the diagonal matrix of an adjacent matrix  and its invert"
   ]
  },
  {
   "cell_type": "code",
   "execution_count": 192,
   "metadata": {},
   "outputs": [],
   "source": [
    "def computeDegreeMatrix(adjacent):\n",
    "    size=adjacent.shape[0]\n",
    "    diagonal=np.dot(adjacent,np.ones(size).reshape(size,1))\n",
    "\n",
    "    return np.diagflat(diagonal)\n",
    "def invDegreeMatrix(Degree):\n",
    "    size=Degree.shape[0]\n",
    "    invert=np.zeros((size,size))\n",
    "    for i in range(size):\n",
    "        invert[i,i]=1.0/Degree[i,i]\n",
    "    return invert \n",
    "    "
   ]
  },
  {
   "cell_type": "markdown",
   "metadata": {},
   "source": [
    "> ##### Compute the laplacian "
   ]
  },
  {
   "cell_type": "code",
   "execution_count": 193,
   "metadata": {},
   "outputs": [],
   "source": [
    "def lapalacian(DegreeMat,AdjMat):\n",
    "    return DegreeMat-AdjMat"
   ]
  },
  {
   "cell_type": "markdown",
   "metadata": {},
   "source": [
    "> ##### Compute modularity for a given graph partition\n"
   ]
  },
  {
   "cell_type": "markdown",
   "metadata": {},
   "source": [
    "> ##### Simple modularity"
   ]
  },
  {
   "cell_type": "code",
   "execution_count": 194,
   "metadata": {},
   "outputs": [],
   "source": [
    "def computeModularity(adjacent,degreeMatrix,kroneckerMat):\n",
    "    degree_vec=np.diag(degreeMatrix)\n",
    "    size=len(degree_vec)\n",
    "    m=np.sum(adjacent)/2.0\n",
    "    kikjsur2m=(1/(2*m))*np.dot(degree_vec.reshape(size,1),degree_vec.reshape(1,size))\n",
    "    return (1/(2*m))*np.sum(np.multiply((np.add(adjacent,-kikjsur2m)),kroneckerMat))"
   ]
  },
  {
   "cell_type": "markdown",
   "metadata": {},
   "source": [
    "> ##### Extended modularity"
   ]
  },
  {
   "cell_type": "code",
   "execution_count": 418,
   "metadata": {},
   "outputs": [],
   "source": [
    "def computeImportanceInCom(circles_ves,adjacent,node_names):\n",
    "    node_imp={}\n",
    "    circles=list(circles_ves.values())\n",
    "    for cl in circles_ves:\n",
    "        this_w=[0]*len(node_names)\n",
    "        for node in node_names:\n",
    "            ix=node_names.index(node)\n",
    "            number=computeFriend(adjacent[node_names.index(node),:].tolist()[0],node_names,circles_ves[cl],node)\n",
    "            node_imp[node_names.index(node)]=number\n",
    "        node_imp[cl]=node_imp\n",
    "    return node_imp    "
   ]
  },
  {
   "cell_type": "code",
   "execution_count": 415,
   "metadata": {},
   "outputs": [],
   "source": [
    "def extendedModularity(adjacent,degreeMatrix,circle_vec):\n",
    "    std=np.std(circle_vec)\n",
    "    average=np.mean(circle_vec)\n",
    "    ncir=[(a-average)/std for a in circle_vec]\n",
    "    vec_cir=np.array(ncir).reshape(len(ncir),1)\n",
    "    mat=np.dot(vec_cir,vec_cir.T)\n",
    "    degree_vec=np.diag(degreeMatrix)\n",
    "    size=len(degree_vec)\n",
    "    m=np.sum(adjacent)/2.0\n",
    "    kikjsur2m=(1/(m))*np.dot(degree_vec.reshape(size,1),degree_vec.reshape(1,size))\n",
    "    return (1/(2*m))*np.sum(np.multiply((np.add(adjacent,-kikjsur2m)),mat))"
   ]
  },
  {
   "cell_type": "code",
   "execution_count": 416,
   "metadata": {},
   "outputs": [],
   "source": [
    "def computeExtendedModularity(adjacent,degreeMatrix,circle_vecs):\n",
    "    somme=0\n",
    "    for circle_vec in circle_vecs:\n",
    "        somme+=extendedModularity(adjacent,degreeMatrix,circle_vec)\n",
    "    return somme"
   ]
  },
  {
   "cell_type": "code",
   "execution_count": null,
   "metadata": {},
   "outputs": [],
   "source": []
  },
  {
   "cell_type": "markdown",
   "metadata": {},
   "source": [
    "> ##### Matrice of K eigenvectors of the laplacian matrix"
   ]
  },
  {
   "cell_type": "code",
   "execution_count": 384,
   "metadata": {},
   "outputs": [],
   "source": [
    "def matKeigOfLap(invDegree,Lap):\n",
    "    V=[]\n",
    "    eigenval, eigenvec = LA.eig(np.dot(invDegree,Lap))\n",
    "    #index of k greatest eigenvalues\n",
    "    kmost=list(heapq.nlargest(invDegree.shape[0],range(len(eigenval)),key=eigenval.__getitem__))\n",
    "    eigenval_ordered=[eigenval[a] for a in kmost]\n",
    "    deltaEig=[abs(eigenval_ordered[i]-eigenval_ordered[i+1]) for i in range(invDegree.shape[0]-1)]\n",
    "    plt.plot(eigenval_ordered,'--bo')\n",
    "    plt.xlabel('k')\n",
    "    plt.ylabel('eigenvalues')\n",
    "    plt.show()\n",
    "    liste=list(heapq.nlargest(len(deltaEig),range(len(deltaEig)),key=deltaEig.__getitem__))\n",
    "    koptimal=liste[1]+2\n",
    "    koptimal=min(koptimal,10)\n",
    "    #deltaEig.index(max(deltaEig))+2\n",
    "    for i in kmost:\n",
    "        V.append(eigenvec[:,i].reshape(invDegree.shape[0],1))\n",
    "    return np.hstack(V)[:,:koptimal]"
   ]
  },
  {
   "cell_type": "markdown",
   "metadata": {},
   "source": [
    "> ##### k-Way (Normalized) Spectral Clustering "
   ]
  },
  {
   "cell_type": "code",
   "execution_count": 281,
   "metadata": {},
   "outputs": [],
   "source": [
    "def buildDisCluster(invdiag,Lap,node_names):\n",
    "    data=matKeigOfLap(invdiag,Lap)\n",
    "    k=data.shape[1]\n",
    "    k_means = KMeans(k)\n",
    "    k_means.fit(data) \n",
    "    labels = k_means.labels_\n",
    "    setLabels=set(labels)\n",
    "    all_clus_dis=[]\n",
    "    for sl in setLabels:\n",
    "        ixs=[i for i,v in enumerate(labels) if v==sl]\n",
    "        all_clus_dis.append([node_names[j] for j in ixs])\n",
    "    return(all_clus_dis)\n"
   ]
  },
  {
   "cell_type": "markdown",
   "metadata": {},
   "source": [
    "> ##### Louvain Method"
   ]
  },
  {
   "cell_type": "code",
   "execution_count": 348,
   "metadata": {},
   "outputs": [],
   "source": [
    "def initializeCommunnity(node_names):\n",
    "    ini_clus={}\n",
    "    for node in node_names:\n",
    "       ini_clus[node]=[node]\n",
    "    return ini_clus"
   ]
  },
  {
   "cell_type": "code",
   "execution_count": 356,
   "metadata": {},
   "outputs": [],
   "source": [
    "def runLouvainAlgo(ini_clus,adjacent,degreeMatrix,node_names):\n",
    "    kro=buildKroneckerMat(ini_clus,adjacent,node_names)\n",
    "    mod=computeModularity(adjacent,degreeMatrix,kro)\n",
    "    clus_dict_cop=ini_clus.copy()\n",
    "    for vi in ini_clus:\n",
    "        count=0\n",
    "        prec=clus_dict_cop[vi]\n",
    "        del clus_dict_cop[vi]\n",
    "        all_mod=[]\n",
    "        for vj in clus_dict_cop:\n",
    "            clus_dict_cop[vj]=clus_dict_cop[vj]+prec\n",
    "            kro=buildKroneckerMat(clus_dict_cop,adjacent,node_names)\n",
    "            mod=computeModularity(adjacent,degreeMatrix,kro)\n",
    "            all_mod.append((vj,mod))\n",
    "            clus_dict_cop[vj]=[a for a in clus_dict_cop[vj] if a not in prec]\n",
    "            count+=1\n",
    "            \n",
    "        score=[b[1] for b in all_mod]\n",
    "        if max(score)>mod and count<100000:\n",
    "            ix_max=score.index(max(score))\n",
    "            clus_dict_cop[all_mod[ix_max][0]]=clus_dict_cop[all_mod[ix_max][0]]+prec\n",
    "            mod=max(score)\n",
    "        else:\n",
    "            clus_dict_cop[vi]=prec\n",
    "            return clus_dict_cop\n",
    "    "
   ]
  },
  {
   "cell_type": "markdown",
   "metadata": {},
   "source": [
    "> ##### Overlap communities"
   ]
  },
  {
   "cell_type": "code",
   "execution_count": 321,
   "metadata": {},
   "outputs": [],
   "source": [
    "def computeFriend(line,node_names,cl,node):\n",
    "    count=0\n",
    "    for c in cl:\n",
    "        if line[node_names.index(c)]!=0:\n",
    "            count+=1\n",
    "    return count\n",
    "    \n",
    "def overlapCom(adjacent,node_names,all_clusters):\n",
    "    for node in node_names:\n",
    "        count_link=np.sum(adjacent[node_names.index(node),:].tolist()[0])\n",
    "        for cl in all_clusters:\n",
    "            if node not in cl:\n",
    "               cc=computeFriend(adjacent[node_names.index(node),:].tolist()[0],node_names,cl,node)\n",
    "               if cc/count_link>=0.25:\n",
    "                  cl.append(node)  \n",
    "    return all_clusters\n",
    "            \n",
    "            "
   ]
  },
  {
   "cell_type": "markdown",
   "metadata": {},
   "source": [
    "### Computing the score of predictions "
   ]
  },
  {
   "cell_type": "markdown",
   "metadata": {},
   "source": [
    "First score KPI : based on the comparison of number of communities between truth and prediction"
   ]
  },
  {
   "cell_type": "code",
   "execution_count": 326,
   "metadata": {},
   "outputs": [],
   "source": [
    "def error_com(dico_t, dico_p):\n",
    "    \"\"\"\n",
    "    this function gives the error rate about the number of communities between truth and prediction\n",
    "    dico_t : truth dictionary. Here, circles.\n",
    "    dico_p : dico of predictions\n",
    "    \"\"\"\n",
    "    comm_error_rate = {}\n",
    "    for user in list(dico_p.keys()):\n",
    "        comm_count_truth = len(dico_t[user])\n",
    "        comm_count_pred = len(dico_p[user])\n",
    "        error = (np.abs(comm_count_truth - comm_count_pred))/comm_count_truth\n",
    "        comm_error_rate[user]= 1 - error\n",
    "    return comm_error_rate"
   ]
  },
  {
   "cell_type": "code",
   "execution_count": 375,
   "metadata": {},
   "outputs": [],
   "source": [
    "def f1_score(dico_t, dico_p):\n",
    "    \"\"\"\n",
    "    This function computes the F1 score for each true community with the predicted communities, \n",
    "    and keep the best one among them.\n",
    "    \"\"\"\n",
    "    f1_dico = {}\n",
    "    for user in list(dico_p.keys()):\n",
    "        f1_dico[user]=[]\n",
    "        for community_t in dico_t[user]:\n",
    "            f1_community = []\n",
    "            for community_p in dico_p[user]:\n",
    "                tp = list(set(community_t).intersection(set(community_p)))\n",
    "                f1 = 2.0*len(tp)/(len(community_t)+len(community_p))\n",
    "                f1_community.append(f1)\n",
    "            if f1_community == []:\n",
    "                f1_dico[user].append(0)\n",
    "            else:\n",
    "                f1_dico[user].append(max(f1_community))\n",
    "    return f1_dico"
   ]
  },
  {
   "cell_type": "markdown",
   "metadata": {},
   "source": [
    "## Fitting the training data "
   ]
  },
  {
   "cell_type": "code",
   "execution_count": 226,
   "metadata": {},
   "outputs": [],
   "source": [
    "files=[f.split('.')[0] for f in os.listdir(path_to_egonet) if f.split('.')[0]!='']\n",
    "files_train, files_test = train_test_split(files, test_size=0.20, random_state=42)"
   ]
  },
  {
   "cell_type": "markdown",
   "metadata": {},
   "source": [
    "> ##### Load graph and circles for training and testing set"
   ]
  },
  {
   "cell_type": "code",
   "execution_count": 106,
   "metadata": {},
   "outputs": [],
   "source": [
    "all_graph_train={file:(buildGraph(file+'.egonet')) for file in files_train}\n",
    "all_circle_train={file:loadCircle(file+'.circles') for file in files_train}\n",
    "all_graph_test={file:(buildGraph(file+'.egonet')) for file in files_test}\n",
    "all_circle_test={file:loadCircle(file+'.circles') for file in files_test}"
   ]
  },
  {
   "cell_type": "markdown",
   "metadata": {},
   "source": [
    "### Basic properties of the graph for the training set"
   ]
  },
  {
   "cell_type": "markdown",
   "metadata": {},
   "source": [
    "> ##### compute number of nodes, number of edges and average degree per node in graph"
   ]
  },
  {
   "cell_type": "code",
   "execution_count": 153,
   "metadata": {},
   "outputs": [],
   "source": [
    "average_degree=[]\n",
    "number_of_node=[]\n",
    "number_of_edge=[]\n",
    "for g in all_graph_train:\n",
    "    number_of_node.append(len(all_graph_train[g][0]))\n",
    "    number_of_edge.append(all_graph_train[g][0].number_of_edges())\n",
    "    average_degree.append(2*all_graph_train[g][0].number_of_edges()/len(all_graph_train[g][0]))"
   ]
  },
  {
   "cell_type": "markdown",
   "metadata": {},
   "source": [
    "> ##### compute the number of triangles "
   ]
  },
  {
   "cell_type": "code",
   "execution_count": 165,
   "metadata": {},
   "outputs": [],
   "source": [
    "number_of_triangle=[]\n",
    "for gid in all_graph_train:\n",
    "    g=all_graph_train[gid][0]\n",
    "    number_of_triangle.append(np.sum(list(nx.triangles(g).values()))/(len(g)*6.0))"
   ]
  },
  {
   "cell_type": "markdown",
   "metadata": {},
   "source": [
    "> ##### compute the clustering coefficient "
   ]
  },
  {
   "cell_type": "code",
   "execution_count": 186,
   "metadata": {},
   "outputs": [],
   "source": [
    "clustering_coefficients=[]\n",
    "for gid in all_graph_train:\n",
    "    g=all_graph_train[gid][0]\n",
    "    clustering_coefficients.append(nx.average_clustering(g))"
   ]
  },
  {
   "cell_type": "markdown",
   "metadata": {},
   "source": [
    "#### Properties of the communities in the training set"
   ]
  },
  {
   "cell_type": "markdown",
   "metadata": {},
   "source": [
    "> ##### Number of communities per Ego Network"
   ]
  },
  {
   "cell_type": "code",
   "execution_count": 76,
   "metadata": {},
   "outputs": [],
   "source": [
    "number_of_com=[len(all_circle_train[circle].keys()) for circle in all_circle_train]"
   ]
  },
  {
   "cell_type": "markdown",
   "metadata": {},
   "source": [
    "> ##### Modularity per graph"
   ]
  },
  {
   "cell_type": "code",
   "execution_count": 114,
   "metadata": {},
   "outputs": [],
   "source": [
    "training_modularities=[]\n",
    "for g in all_graph_train:\n",
    "    adjacent=buildAdj(all_graph_train[g][0])\n",
    "    degreeMatrix=computeDegreeMatrix(adjacent)\n",
    "    kroneckerMat=buildKroneckerMat(all_circle_train[g],adjacent,all_graph_train[g][1])\n",
    "    training_modularities.append(computeModularity(adjacent,degreeMatrix,kroneckerMat))"
   ]
  },
  {
   "cell_type": "markdown",
   "metadata": {},
   "source": [
    "> ##### Extended modularity"
   ]
  },
  {
   "cell_type": "code",
   "execution_count": null,
   "metadata": {},
   "outputs": [],
   "source": [
    "adjacent=buildAdj(all_graph_train['0'][0])\n",
    "degreeMatrix=computeDegreeMatrix(adjacent)\n",
    "kroneckerMat=buildKroneckerMat(all_circle_train[g],adjacent,all_graph_train[g][1])\n",
    "training_modularities.append(computeModularity(adjacent,degreeMatrix,kroneckerMat))\n",
    "\n",
    "circle_vecs=computeImportanceInCom(circles,adjacent,node_names)\n",
    "computeExtendedModularity(adjacent,degreeMatrix,circle_vecs)"
   ]
  },
  {
   "cell_type": "markdown",
   "metadata": {},
   "source": [
    "#### Training set summary"
   ]
  },
  {
   "cell_type": "code",
   "execution_count": 188,
   "metadata": {},
   "outputs": [
    {
     "data": {
      "text/html": [
       "<div>\n",
       "<style scoped>\n",
       "    .dataframe tbody tr th:only-of-type {\n",
       "        vertical-align: middle;\n",
       "    }\n",
       "\n",
       "    .dataframe tbody tr th {\n",
       "        vertical-align: top;\n",
       "    }\n",
       "\n",
       "    .dataframe thead th {\n",
       "        text-align: right;\n",
       "    }\n",
       "</style>\n",
       "<table border=\"1\" class=\"dataframe\">\n",
       "  <thead>\n",
       "    <tr style=\"text-align: right;\">\n",
       "      <th></th>\n",
       "      <th># communities</th>\n",
       "      <th># edges</th>\n",
       "      <th># nodes</th>\n",
       "      <th># of triangles</th>\n",
       "      <th>average degree</th>\n",
       "      <th>clustering coefficient</th>\n",
       "      <th>modularity</th>\n",
       "    </tr>\n",
       "  </thead>\n",
       "  <tbody>\n",
       "    <tr>\n",
       "      <th>24758</th>\n",
       "      <td>5</td>\n",
       "      <td>97</td>\n",
       "      <td>44</td>\n",
       "      <td>1.034091</td>\n",
       "      <td>4.409091</td>\n",
       "      <td>0.641198</td>\n",
       "      <td>-0.008742</td>\n",
       "    </tr>\n",
       "    <tr>\n",
       "      <th>11014</th>\n",
       "      <td>10</td>\n",
       "      <td>2350</td>\n",
       "      <td>330</td>\n",
       "      <td>14.280303</td>\n",
       "      <td>14.242424</td>\n",
       "      <td>0.612121</td>\n",
       "      <td>0.000798</td>\n",
       "    </tr>\n",
       "    <tr>\n",
       "      <th>25159</th>\n",
       "      <td>14</td>\n",
       "      <td>955</td>\n",
       "      <td>119</td>\n",
       "      <td>26.932773</td>\n",
       "      <td>16.050420</td>\n",
       "      <td>0.686625</td>\n",
       "      <td>-0.015238</td>\n",
       "    </tr>\n",
       "    <tr>\n",
       "      <th>9846</th>\n",
       "      <td>9</td>\n",
       "      <td>1021</td>\n",
       "      <td>100</td>\n",
       "      <td>26.125000</td>\n",
       "      <td>20.420000</td>\n",
       "      <td>0.643935</td>\n",
       "      <td>-0.008077</td>\n",
       "    </tr>\n",
       "    <tr>\n",
       "      <th>2738</th>\n",
       "      <td>4</td>\n",
       "      <td>51</td>\n",
       "      <td>37</td>\n",
       "      <td>0.351351</td>\n",
       "      <td>2.756757</td>\n",
       "      <td>0.496118</td>\n",
       "      <td>-0.040465</td>\n",
       "    </tr>\n",
       "    <tr>\n",
       "      <th>18612</th>\n",
       "      <td>8</td>\n",
       "      <td>2285</td>\n",
       "      <td>225</td>\n",
       "      <td>31.708889</td>\n",
       "      <td>20.311111</td>\n",
       "      <td>0.607578</td>\n",
       "      <td>-0.015606</td>\n",
       "    </tr>\n",
       "    <tr>\n",
       "      <th>14129</th>\n",
       "      <td>9</td>\n",
       "      <td>7807</td>\n",
       "      <td>665</td>\n",
       "      <td>39.916541</td>\n",
       "      <td>23.479699</td>\n",
       "      <td>0.538740</td>\n",
       "      <td>-0.000879</td>\n",
       "    </tr>\n",
       "    <tr>\n",
       "      <th>23299</th>\n",
       "      <td>15</td>\n",
       "      <td>2221</td>\n",
       "      <td>461</td>\n",
       "      <td>6.007592</td>\n",
       "      <td>9.635575</td>\n",
       "      <td>0.532423</td>\n",
       "      <td>0.001855</td>\n",
       "    </tr>\n",
       "    <tr>\n",
       "      <th>22650</th>\n",
       "      <td>12</td>\n",
       "      <td>1159</td>\n",
       "      <td>169</td>\n",
       "      <td>14.857988</td>\n",
       "      <td>13.715976</td>\n",
       "      <td>0.656910</td>\n",
       "      <td>-0.023496</td>\n",
       "    </tr>\n",
       "    <tr>\n",
       "      <th>7667</th>\n",
       "      <td>5</td>\n",
       "      <td>3632</td>\n",
       "      <td>311</td>\n",
       "      <td>30.020900</td>\n",
       "      <td>23.356913</td>\n",
       "      <td>0.565345</td>\n",
       "      <td>-0.006619</td>\n",
       "    </tr>\n",
       "  </tbody>\n",
       "</table>\n",
       "</div>"
      ],
      "text/plain": [
       "       # communities  # edges  # nodes  # of triangles  average degree  \\\n",
       "24758              5       97       44        1.034091        4.409091   \n",
       "11014             10     2350      330       14.280303       14.242424   \n",
       "25159             14      955      119       26.932773       16.050420   \n",
       "9846               9     1021      100       26.125000       20.420000   \n",
       "2738               4       51       37        0.351351        2.756757   \n",
       "18612              8     2285      225       31.708889       20.311111   \n",
       "14129              9     7807      665       39.916541       23.479699   \n",
       "23299             15     2221      461        6.007592        9.635575   \n",
       "22650             12     1159      169       14.857988       13.715976   \n",
       "7667               5     3632      311       30.020900       23.356913   \n",
       "\n",
       "       clustering coefficient  modularity  \n",
       "24758                0.641198   -0.008742  \n",
       "11014                0.612121    0.000798  \n",
       "25159                0.686625   -0.015238  \n",
       "9846                 0.643935   -0.008077  \n",
       "2738                 0.496118   -0.040465  \n",
       "18612                0.607578   -0.015606  \n",
       "14129                0.538740   -0.000879  \n",
       "23299                0.532423    0.001855  \n",
       "22650                0.656910   -0.023496  \n",
       "7667                 0.565345   -0.006619  "
      ]
     },
     "execution_count": 188,
     "metadata": {},
     "output_type": "execute_result"
    }
   ],
   "source": [
    "training_graph_dict={'# nodes':number_of_node,'# edges':number_of_edge,'average degree':average_degree,'# of triangles':number_of_triangle,'# communities':number_of_com,'modularity':training_modularities,'clustering coefficient':clustering_coefficients}\n",
    "training_graph_summary=pd.DataFrame(training_graph_dict)\n",
    "training_graph_summary.index=all_graph_train.keys()\n",
    "training_graph_summary.head(10)"
   ]
  },
  {
   "cell_type": "markdown",
   "metadata": {},
   "source": [
    "##### Some statistics"
   ]
  },
  {
   "cell_type": "code",
   "execution_count": 290,
   "metadata": {},
   "outputs": [
    {
     "name": "stdout",
     "output_type": "stream",
     "text": [
      "# communities                9.590909\n",
      "# edges                   3459.727273\n",
      "# nodes                    246.329545\n",
      "# of triangles              52.625625\n",
      "average degree              21.052330\n",
      "clustering coefficient       0.612476\n",
      "modularity                  -0.006762\n",
      "dtype: float64\n"
     ]
    }
   ],
   "source": [
    "average_num_of_com=np.mean(training_graph_summary)\n",
    "print(average_num_of_com)"
   ]
  },
  {
   "cell_type": "code",
   "execution_count": 177,
   "metadata": {},
   "outputs": [
    {
     "data": {
      "image/png": "[encoded data removed]",
      "text/plain": [
       "<matplotlib.figure.Figure at 0x1a2520c518>"
      ]
     },
     "metadata": {},
     "output_type": "display_data"
    }
   ],
   "source": [
    "plt.hist(training_graph_summary['# communities'])\n",
    "plt.title('Distribution of the number of communities in the training set')\n",
    "plt.show()"
   ]
  },
  {
   "cell_type": "code",
   "execution_count": 178,
   "metadata": {},
   "outputs": [
    {
     "data": {
      "image/png": "[encoded data removed]",
      "text/plain": [
       "<matplotlib.figure.Figure at 0x1a251f9668>"
      ]
     },
     "metadata": {},
     "output_type": "display_data"
    }
   ],
   "source": [
    "plt.hist(training_graph_summary['# edges'])\n",
    "plt.title('Distribution of the number of edges in the training set')\n",
    "plt.show()"
   ]
  },
  {
   "cell_type": "code",
   "execution_count": 179,
   "metadata": {},
   "outputs": [
    {
     "data": {
      "image/png": "[encoded data removed]",
      "text/plain": [
       "<matplotlib.figure.Figure at 0x1a21992a58>"
      ]
     },
     "metadata": {},
     "output_type": "display_data"
    }
   ],
   "source": [
    "plt.hist(training_graph_summary['# nodes'])\n",
    "plt.title('Distribution of the number of nodes in the training set')\n",
    "plt.show()"
   ]
  },
  {
   "cell_type": "code",
   "execution_count": 181,
   "metadata": {},
   "outputs": [
    {
     "data": {
      "image/png": "[encoded data removed]",
      "text/plain": [
       "<matplotlib.figure.Figure at 0x1a28c4fda0>"
      ]
     },
     "metadata": {},
     "output_type": "display_data"
    }
   ],
   "source": [
    "plt.hist(training_graph_summary['# of triangles'])\n",
    "plt.title('Distribution of the number of triangles in the training set')\n",
    "plt.show()"
   ]
  },
  {
   "cell_type": "code",
   "execution_count": 185,
   "metadata": {},
   "outputs": [
    {
     "data": {
      "image/png": "[encoded data removed]",
      "text/plain": [
       "<matplotlib.figure.Figure at 0x1a28c5da20>"
      ]
     },
     "metadata": {},
     "output_type": "display_data"
    }
   ],
   "source": [
    "plt.hist(training_graph_summary['modularity'])\n",
    "plt.title('Distribution of the modularity in the training set')\n",
    "plt.show()"
   ]
  },
  {
   "cell_type": "code",
   "execution_count": 189,
   "metadata": {},
   "outputs": [
    {
     "data": {
      "image/png": "[encoded data removed]",
      "text/plain": [
       "<matplotlib.figure.Figure at 0x1a28c66c18>"
      ]
     },
     "metadata": {},
     "output_type": "display_data"
    }
   ],
   "source": [
    "plt.hist(training_graph_summary['clustering coefficient'])\n",
    "plt.title('Distribution of the clustering coefficient in the training set')\n",
    "plt.show()"
   ]
  },
  {
   "cell_type": "markdown",
   "metadata": {},
   "source": [
    "### Running k-way spectral clustering"
   ]
  },
  {
   "cell_type": "code",
   "execution_count": 346,
   "metadata": {},
   "outputs": [],
   "source": [
    "all_clus={}\n",
    "all_clus_count={}\n",
    "all_clusters={}\n",
    "all_clusters_count={}\n",
    "for file in all_graph_test:\n",
    "    G,node_names,node_name_isolated= buildGraph(file+\".egonet\")\n",
    "    adj=buildAdj(G)\n",
    "    diag=computeDegreeMatrix(adj)\n",
    "    invdiag=invDegreeMatrix(diag)\n",
    "    Lap=lapalacian(diag,adj)\n",
    "    clusters=buildDisCluster(invdiag,Lap,node_names)\n",
    "    all_clus[file]=clusters\n",
    "    all_clus_count[file]=[len(a) for a in clusters]\n",
    "    all_clusters[file]=overlapCom(adj,node_names,clusters)\n",
    "    all_clusters_count[file]=[len(a) for a in all_clusters[file]]"
   ]
  },
  {
   "cell_type": "code",
   "execution_count": 378,
   "metadata": {},
   "outputs": [],
   "source": [
    "restric_circle_test_k={}\n",
    "for k in all_circle_test:\n",
    "    dict1=all_circle_test[k]\n",
    "    dict1_values=dict1.values()\n",
    "    restric_circle_test_k[k]=dict1_values"
   ]
  },
  {
   "cell_type": "markdown",
   "metadata": {},
   "source": [
    "### Louvain Method 1"
   ]
  },
  {
   "cell_type": "code",
   "execution_count": 358,
   "metadata": {},
   "outputs": [
    {
     "name": "stdout",
     "output_type": "stream",
     "text": [
      "5087\n",
      "3581\n",
      "2630\n",
      "6726\n",
      "611\n",
      "16642\n",
      "22364\n",
      "13687\n",
      "22824\n",
      "10929\n",
      "8338\n",
      "24812\n",
      "850\n",
      "1813\n",
      "18005\n"
     ]
    }
   ],
   "source": [
    "all_clus_louvain={}\n",
    "all_clus_count_louvain={}\n",
    "all_clusters_louvain={}\n",
    "all_clusters_count_louvain={}\n",
    "count=0\n",
    "for file in all_graph_test:\n",
    "    print(file)\n",
    "    count+=1\n",
    "    if count<15:\n",
    "        G,node_names,node_name_isolated= buildGraph(file+\".egonet\")\n",
    "        adj=buildAdj(G)\n",
    "        diag=computeDegreeMatrix(adj)\n",
    "        invdiag=invDegreeMatrix(diag)\n",
    "        ini_clus=initializeCommunnity(node_names)\n",
    "        clusters_dic=runLouvainAlgo(ini_clus,adj,diag,node_names)\n",
    "        clusters=list(clusters_dic.values())\n",
    "        all_clus_louvain[file]=clusters\n",
    "        all_clus_count_louvain[file]=[len(a) for a in clusters]\n",
    "        all_clusters_louvain[file]=overlapCom(adj,node_names,clusters)\n",
    "        all_clusters_count_louvain[file]=[len(a) for a in all_clusters_louvain[file]]\n",
    "    else:\n",
    "        break"
   ]
  },
  {
   "cell_type": "code",
   "execution_count": 360,
   "metadata": {},
   "outputs": [],
   "source": [
    "resK=[k for k in all_clusters_louvain]\n",
    "restric_circle_test={k:v for k,v in all_circle_test.items() if k in resK}"
   ]
  },
  {
   "cell_type": "code",
   "execution_count": 372,
   "metadata": {},
   "outputs": [],
   "source": [
    "restric_circle_test1={}\n",
    "for k in resK:\n",
    "    dict1=restric_circle_test[k]\n",
    "    dict1_values=dict1.values()\n",
    "    restric_circle_test1[k]=dict1_values"
   ]
  },
  {
   "cell_type": "code",
   "execution_count": 420,
   "metadata": {},
   "outputs": [
    {
     "ename": "KeyError",
     "evalue": "'239'",
     "output_type": "error",
     "traceback": [
      "\u001b[0;31m---------------------------------------------------------------------------\u001b[0m",
      "\u001b[0;31mKeyError\u001b[0m                                  Traceback (most recent call last)",
      "\u001b[0;32m<ipython-input-420-4b7ee8dca5ad>\u001b[0m in \u001b[0;36m<module>\u001b[0;34m()\u001b[0m\n\u001b[1;32m      3\u001b[0m \u001b[0mdegreeMatrix\u001b[0m\u001b[0;34m=\u001b[0m\u001b[0mcomputeDegreeMatrix\u001b[0m\u001b[0;34m(\u001b[0m\u001b[0madjacent\u001b[0m\u001b[0;34m)\u001b[0m\u001b[0;34m\u001b[0m\u001b[0m\n\u001b[1;32m      4\u001b[0m \u001b[0;34m\u001b[0m\u001b[0m\n\u001b[0;32m----> 5\u001b[0;31m \u001b[0mcircle_vecs\u001b[0m\u001b[0;34m=\u001b[0m\u001b[0mcomputeImportanceInCom\u001b[0m\u001b[0;34m(\u001b[0m\u001b[0mall_circle_train\u001b[0m\u001b[0;34m[\u001b[0m\u001b[0;34m'239'\u001b[0m\u001b[0;34m]\u001b[0m\u001b[0;34m,\u001b[0m\u001b[0madjacent\u001b[0m\u001b[0;34m,\u001b[0m\u001b[0mnode_names\u001b[0m\u001b[0;34m)\u001b[0m\u001b[0;34m\u001b[0m\u001b[0m\n\u001b[0m\u001b[1;32m      6\u001b[0m \u001b[0mcomputeExtendedModularity\u001b[0m\u001b[0;34m(\u001b[0m\u001b[0madjacent\u001b[0m\u001b[0;34m,\u001b[0m\u001b[0mdegreeMatrix\u001b[0m\u001b[0;34m,\u001b[0m\u001b[0mcircle_vecs\u001b[0m\u001b[0;34m)\u001b[0m\u001b[0;34m\u001b[0m\u001b[0m\n",
      "\u001b[0;31mKeyError\u001b[0m: '239'"
     ]
    }
   ],
   "source": [
    "G,node_names,node_name_isolated= buildGraph(\"239.egonet\")\n",
    "adjacent=buildAdj(G)\n",
    "degreeMatrix=computeDegreeMatrix(adjacent)\n",
    "\n",
    "circle_vecs=computeImportanceInCom(all_circle_train['239'],adjacent,node_names)\n",
    "computeExtendedModularity(adjacent,degreeMatrix,circle_vecs)"
   ]
  },
  {
   "cell_type": "markdown",
   "metadata": {},
   "source": [
    "## Evauation of the results"
   ]
  },
  {
   "cell_type": "markdown",
   "metadata": {},
   "source": [
    "> ##### K-way Clustering"
   ]
  },
  {
   "cell_type": "code",
   "execution_count": 399,
   "metadata": {},
   "outputs": [],
   "source": [
    "all_clusters_df=pd.DataFrame()\n",
    "all_clusters_df['users']=list(all_clusters.keys())\n",
    "all_clusters_df['prediction']=list(all_clusters.values())\n",
    "all_clusters_df.to_csv('/Users/yaguethiam/Centrale_3A/NGSA/final_project/anonData/k_way_pred.csv')"
   ]
  },
  {
   "cell_type": "code",
   "execution_count": 379,
   "metadata": {},
   "outputs": [],
   "source": [
    "error_com_kway=error_com(restric_circle_test_k,all_clusters)"
   ]
  },
  {
   "cell_type": "code",
   "execution_count": 394,
   "metadata": {},
   "outputs": [],
   "source": [
    "error_com_kway_df=pd.DataFrame()\n",
    "error_com_kway_df['keys']=list(error_com_kway.keys())\n",
    "error_com_kway_df['error_com']=list(error_com_kway.values())\n",
    "error_com_kway_df.to_csv('/Users/yaguethiam/Centrale_3A/NGSA/final_project/anonData/k_way_error_com.csv')"
   ]
  },
  {
   "cell_type": "code",
   "execution_count": 380,
   "metadata": {},
   "outputs": [],
   "source": [
    "f1_score_kway=f1_score(restric_circle_test_k,all_clusters)"
   ]
  },
  {
   "cell_type": "code",
   "execution_count": 395,
   "metadata": {},
   "outputs": [],
   "source": [
    "f1_score_kway_df=pd.DataFrame()\n",
    "f1_score_kway_df['keys']=list(f1_score_kway.keys())\n",
    "f1_score_kway_df['f1_score']=list(f1_score_kway.values())\n",
    "f1_score_kway_df.to_csv('/Users/yaguethiam/Centrale_3A/NGSA/final_project/anonData/k_way_f1_score.csv')"
   ]
  },
  {
   "cell_type": "markdown",
   "metadata": {},
   "source": [
    "> ##### Louvain method"
   ]
  },
  {
   "cell_type": "code",
   "execution_count": 400,
   "metadata": {},
   "outputs": [],
   "source": [
    "all_clusters_louvain_df=pd.DataFrame()\n",
    "all_clusters_louvain_df['users']=list(all_clusters_louvain.keys())\n",
    "all_clusters_louvain_df['prediction']=list(all_clusters_louvain.values())\n",
    "all_clusters_louvain_df.to_csv('/Users/yaguethiam/Centrale_3A/NGSA/final_project/anonData/louvain_pred.csv')"
   ]
  },
  {
   "cell_type": "code",
   "execution_count": 373,
   "metadata": {},
   "outputs": [],
   "source": [
    "error_com_louvain=error_com(restric_circle_test1,all_clusters_louvain)"
   ]
  },
  {
   "cell_type": "code",
   "execution_count": 397,
   "metadata": {},
   "outputs": [],
   "source": [
    "error_com_louvain_df=pd.DataFrame()\n",
    "error_com_louvain_df['keys']=list(error_com_louvain.keys())\n",
    "error_com_louvain_df['error_com']=list(error_com_louvain.values())\n",
    "error_com_louvain_df.to_csv('/Users/yaguethiam/Centrale_3A/NGSA/final_project/anonData/louvain_error_com.csv')"
   ]
  },
  {
   "cell_type": "code",
   "execution_count": 376,
   "metadata": {},
   "outputs": [],
   "source": [
    "f1_score_louvain=f1_score(restric_circle_test1,all_clusters_louvain)"
   ]
  },
  {
   "cell_type": "code",
   "execution_count": 398,
   "metadata": {},
   "outputs": [],
   "source": [
    "f1_score_louvain_df=pd.DataFrame()\n",
    "f1_score_louvain_df['keys']=list(f1_score_louvain.keys())\n",
    "f1_score_louvain_df['f1_score']=list(f1_score_louvain.values())\n",
    "f1_score_louvain_df.to_csv('/Users/yaguethiam/Centrale_3A/NGSA/final_project/anonData/louvain_f1_score.csv')"
   ]
  },
  {
   "cell_type": "markdown",
   "metadata": {},
   "source": [
    "### Some characteristics of the community"
   ]
  },
  {
   "cell_type": "code",
   "execution_count": null,
   "metadata": {},
   "outputs": [],
   "source": [
    "def get_degrees(G):\n",
    "    \"\"\"\n",
    "    This function returns the list of degrees of nodes of a given graph\n",
    "    \"\"\"\n",
    "    degrees=[]\n",
    "    for node_degree in list(nx.degree(G)):\n",
    "        degrees.append(node_degree[1])\n",
    "    return degrees"
   ]
  },
  {
   "cell_type": "code",
   "execution_count": null,
   "metadata": {},
   "outputs": [],
   "source": [
    "def FOMD(sub, dm):\n",
    "    \"\"\"\n",
    "    Returns the Fraction Over Median Degree of a community \n",
    "    \"\"\"\n",
    "    count=0\n",
    "    sub_degrees = get_degrees(sub)\n",
    "    for sub_degree in sub_degrees:\n",
    "        if sub_degree>dm:\n",
    "            count+=1\n",
    "    fomd = count/nx.number_of_nodes(sub)\n",
    "    return fomd"
   ]
  },
  {
   "cell_type": "code",
   "execution_count": null,
   "metadata": {},
   "outputs": [],
   "source": [
    "def get_ext_edges(sub, G):\n",
    "    \"\"\"\n",
    "    Return the number of external edges of a community\n",
    "    \"\"\"\n",
    "    nodes_int_degree = list(nx.degree(sub))\n",
    "    node_sub_dict = {}\n",
    "    for node in nodes_int_degree:\n",
    "        node_sub_dict[node[0]]=node[1]\n",
    "    nodes_degree = list(nx.degree(G))\n",
    "    for node in nodes_degree:\n",
    "        if node[0] in list(node_sub_dict.keys()):\n",
    "            int_deg = node_sub_dict[node[0]]\n",
    "            node_sub_dict[node[0]] = node[1] - int_deg\n",
    "    cs = sum(list(node_sub_dict.values()))\n",
    "    return cs"
   ]
  }
 ],
 "metadata": {
  "kernelspec": {
   "display_name": "Python 3",
   "language": "python",
   "name": "python3"
  },
  "language_info": {
   "codemirror_mode": {
    "name": "ipython",
    "version": 3
   },
   "file_extension": ".py",
   "mimetype": "text/x-python",
   "name": "python",
   "nbconvert_exporter": "python",
   "pygments_lexer": "ipython3",
   "version": "3.6.4"
  }
 },
 "nbformat": 4,
 "nbformat_minor": 2
}
